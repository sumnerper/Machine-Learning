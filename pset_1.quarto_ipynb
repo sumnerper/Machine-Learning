{
  "cells": [
    {
      "cell_type": "markdown",
      "metadata": {},
      "source": [
        "---\n",
        "title: \"ML Pset 1\"\n",
        "author: \"Sumner Perera\"\n",
        "date: 1-23-25\n",
        "format: \n",
        "    pdf:\n",
        "      keep-tex: true\n",
        "      latex-engine: xelatex\n",
        "      include-in-header: \n",
        "        text: |\n",
        "          \\usepackage{fvextra}\n",
        "          \\DefineVerbatimEnvironment{Highlighting}{Verbatim}{breaklines,commandchars=\\\\\\{\\}}\n",
        "          \\DefineVerbatimEnvironment{OutputCode}{Verbatim}{breaklines,commandchars=\\\\\\{\\}}\n",
        "---\n",
        "\n",
        "\n",
        "## Question 1\n",
        "a. \n",
        "\\vspace{2ex}\n",
        "![](q1.jpg)\n",
        "\n",
        "b. \n",
        "Variance and bias have curves that go in opposite directions because of the trade off that exists between the two; more flexible models fit to every value in the data so variance of the model increases and bias decreases. The test error has a \"u\" shape because with additional flexibility, the model is unable to model the noise in the test data. The Bayes error remains flat because it is neutral and is the natural error that would exist for any model. The training error decreases with greater flexibility because as flexibility increases, the model does a better job of fitting the data. \n",
        "\n",
        "## Question 2 \n",
        "A very flexible model can be bad in terms of overfitting to the training data and then not doing well with the test data (creating a large test error). They can also be very difficult to explain and understand in terms of the relationship between the predictor and response variables, compared to less flexible models. A less flexible model might be preferred when there's a reasonable assumption that the relationship is simple between the response and predictors. \n",
        "\n",
        "## Question 3 \n",
        "a. \n"
      ],
      "id": "0d3d1c78"
    },
    {
      "cell_type": "code",
      "metadata": {},
      "source": [
        "## load packages\n",
        "import pandas as pd \n",
        "import numpy as np \n",
        "import math "
      ],
      "id": "9d61bc98",
      "execution_count": null,
      "outputs": []
    },
    {
      "cell_type": "code",
      "metadata": {},
      "source": [
        "## load data\n",
        "path = r\"C:\\Users\\12019\\OneDrive - The University of Chicago\\Documents\\GitHub\\ml_problem sets\\Boston.csv\"\n",
        "\n",
        "housing = pd.read_csv(path)"
      ],
      "id": "ca79824f",
      "execution_count": null,
      "outputs": []
    },
    {
      "cell_type": "markdown",
      "metadata": {},
      "source": [
        "b. \n"
      ],
      "id": "7598e2a6"
    },
    {
      "cell_type": "code",
      "metadata": {},
      "source": [
        "## get number of rows and columns of the dataset \n",
        "housing.shape"
      ],
      "id": "e894af66",
      "execution_count": null,
      "outputs": []
    },
    {
      "cell_type": "markdown",
      "metadata": {},
      "source": [
        "There are 506 rows and 14 columns in the dataset. \n"
      ],
      "id": "341412af"
    },
    {
      "cell_type": "code",
      "metadata": {},
      "source": [
        "housing.head()\n",
        "housing.info()"
      ],
      "id": "cbf84b55",
      "execution_count": null,
      "outputs": []
    },
    {
      "cell_type": "markdown",
      "metadata": {},
      "source": [
        "Each observation (row) is a different Boston census tract and the columns, according to the Boston data_description text file represent a variety of characteristics for that census tract such as CRIM being per capita crime rate by town, ZN being the proportion of residential land zoned for lots over 25k sq ft and more. \n",
        "\n",
        "According to that text file, these are what all the variables represent: \n",
        " CRIM     per capita crime rate by town\n",
        " ZN       proportion of residential land zoned for lots over 25,000 sq.ft.\n",
        " INDUS    proportion of non-retail business acres per town\n",
        " CHAS     Charles River dummy variable (= 1 if tract bounds river; 0 otherwise)\n",
        " NOX      nitric oxides concentration (parts per 10 million)\n",
        " RM       average number of rooms per dwelling\n",
        " AGE      proportion of owner-occupied units built prior to 1940\n",
        " DIS      weighted distances to five Boston employment centres\n",
        " RAD      index of accessibility to radial highways\n",
        " TAX      full-value property-tax rate per $10,000\n",
        " PTRATIO  pupil-teacher ratio by town\n",
        " B        1000(Bk - 0.63)^2 where Bk is the proportion of blacks by town\n",
        " LSTAT    % lower status of the population\n",
        " MDEV     Median value of owner-occupied homes in $1000's\n",
        "\n",
        "c. \n"
      ],
      "id": "b21aa4b9"
    },
    {
      "cell_type": "code",
      "metadata": {},
      "source": [
        "## import required libraries \n",
        "import matplotlib.pyplot as plt \n",
        "import seaborn as sns "
      ],
      "id": "b070fa28",
      "execution_count": null,
      "outputs": []
    },
    {
      "cell_type": "code",
      "metadata": {},
      "source": [
        "## create the 5 scatter plots of predictors \n",
        "plt.scatter(housing['CHAS'],housing['CRIM'])\n",
        "plt.title('Bounding Charles River vs Per Capita Crime Rate by Town')\n",
        "plt.xlabel('Bounding Charles River')\n",
        "plt.ylabel('Per Capita Crime Rate')"
      ],
      "id": "70f3e90e",
      "execution_count": null,
      "outputs": []
    },
    {
      "cell_type": "markdown",
      "metadata": {},
      "source": [
        "This scatterplot demonstrates that for census tracts that are bounded by the Charles River (equals 1), they have on average a lower per capita crime rate than the tracts that are not bounded by the River (equals 0). \n"
      ],
      "id": "06c20c2a"
    },
    {
      "cell_type": "code",
      "metadata": {},
      "source": [
        "plt.scatter(housing['AGE'],housing['MDEV'])\n",
        "plt.title('Median Home Value vs Pre-1940s Homes')\n",
        "plt.xlabel('Prop of Pre-1940 Homes')\n",
        "plt.ylabel('Median Value (1000s)')"
      ],
      "id": "7bf39dd4",
      "execution_count": null,
      "outputs": []
    },
    {
      "cell_type": "markdown",
      "metadata": {},
      "source": [
        "In this scatterplot, based on the eye alone, there appears to be some sort of negative trend where census tracts that have a greater proportion of homes built before 1940 have a lower median value in the 1000s. \n"
      ],
      "id": "4f8ad589"
    },
    {
      "cell_type": "code",
      "metadata": {},
      "source": [
        "plt.scatter(housing['PTRATIO'],housing['CRIM'])\n",
        "plt.title('Per Capita Crime Rate vs Pupil-Teacher Ratio')\n",
        "plt.xlabel('Pupil-Teacher Ratio')\n",
        "plt.ylabel('Per Capita Crime Rate')"
      ],
      "id": "7e8a2898",
      "execution_count": null,
      "outputs": []
    },
    {
      "cell_type": "markdown",
      "metadata": {},
      "source": [
        "In this scatterplot we see that census tracts that have about a 21 pupil-teacher ratio have a wide variety of per capita crime rates from 0 to over 80 while all other census tracts with a pupil-teacher ratio outside of this pretty much has a per capita crime rate of around 0. \n"
      ],
      "id": "522f5d1e"
    },
    {
      "cell_type": "code",
      "metadata": {},
      "source": [
        "plt.scatter(housing['AGE'],housing['NOX'])\n",
        "plt.title('Nitric Oxides Conc. vs Prop of Pre-1940 Homes')\n",
        "plt.xlabel('Prop of Pre-1940 Homes')\n",
        "plt.ylabel('Nitric Oxides Concentrate')"
      ],
      "id": "9ddf9315",
      "execution_count": null,
      "outputs": []
    },
    {
      "cell_type": "markdown",
      "metadata": {},
      "source": [
        "This scatterplot shows by eye that there is a positive correlation between census tracts with a greater proportion of pre-1940 homes and a greater amount of nitric oxides in parts per 10 million. \n"
      ],
      "id": "9dd0c7de"
    },
    {
      "cell_type": "code",
      "metadata": {},
      "source": [
        "plt.scatter(housing['DIS'],housing['CRIM'])\n",
        "plt.title('Crime Rate vs Distance to Employment Centers')\n",
        "plt.xlabel('Weighted Distances to Employment Centers')\n",
        "plt.ylabel('Per Capita Crime Rate')"
      ],
      "id": "fff13a7e",
      "execution_count": null,
      "outputs": []
    },
    {
      "cell_type": "markdown",
      "metadata": {},
      "source": [
        "This scatterplot shows that there is more variability and a clustering of higher per capita crime rate among census tracts that are closer to 5 employment centers compared to those that are further away. For any distance greater than 4, the per capita crime rate sits for the most part at 0. \n",
        "\n",
        "d. \n",
        "\n",
        "Yes there are some predictors that are associated with crime rate from the explorations I conducted in part c of this question. There appears to be a clustering of higher and more variable per capita crime rate for census tracts that do not bound the Charles River, for tracts where the pupil-teacher ratio is around 20, and tracts where the weighted distance to five Boston employment centers is less than 4. \n",
        "\n",
        "For the predictor of bounding the Charles River there are only two options, yes or no which are designated by 1 or 0. For the pupil-teacher ratio the range is between 0 and 22. And for the weighted distances to employment centers that is between 0 and about 12. \n",
        "\n",
        "f. \n"
      ],
      "id": "2be59f84"
    },
    {
      "cell_type": "code",
      "metadata": {},
      "source": [
        "## filter for just rows that bound Charles River \n",
        "housing_CR_bound = housing.loc[housing['CHAS'] == 1]\n",
        "housing_CR_bound.shape"
      ],
      "id": "419a81b7",
      "execution_count": null,
      "outputs": []
    },
    {
      "cell_type": "markdown",
      "metadata": {},
      "source": [
        "There are 35 census tracts in this dataset that bound the Charles River. \n",
        "\n",
        "g. \n"
      ],
      "id": "3f32d0b1"
    },
    {
      "cell_type": "code",
      "metadata": {},
      "source": [
        "## look at the descriptive stats for all the predictors\n",
        "housing.describe()"
      ],
      "id": "ec15da67",
      "execution_count": null,
      "outputs": []
    },
    {
      "cell_type": "markdown",
      "metadata": {},
      "source": [
        "The median pupil-teacher ratio (PTRATIO) in the dataset is about 19. \n",
        "\n",
        "h. \n"
      ],
      "id": "48568164"
    },
    {
      "cell_type": "code",
      "metadata": {},
      "source": [
        "## sort the housing data by the lowest median value for MDEV\n",
        "sorted_mdev = housing.sort_values(by='MDEV', ascending = True)\n",
        "sorted_mdev.head()\n",
        "\n",
        "# ref: Asked ChatGPT, \"how do you filter by the lowest value in a column in python so that dataset is organized from least to greatest for that column?\"\"\n",
        "\n",
        "## get the ranges for the other predictors \n",
        "sorted_mdev.describe()"
      ],
      "id": "6ef43aaa",
      "execution_count": null,
      "outputs": []
    },
    {
      "cell_type": "markdown",
      "metadata": {},
      "source": [
        "For the census tract that has the lowest median value of homes, the values of the other predictors are the following: \n",
        "\n",
        "- CRIM = 38.35 which is in the fourth quartile \n",
        "- ZN = 0 which is the min value in range\n",
        "- INDUS = 18.1 which at the 75% value \n",
        "- CHAS = 0 which is the min value in range \n",
        "- NOX = 0.693 which is in the fourth quartile \n",
        "- RM = 5.453 which is in the first quartile \n",
        "- AGE = 100 which is the max \n",
        "- DIS = 1.4896 which is in the first quartile\n",
        "- RAD = 24 which is the max \n",
        "- TAX = 666 which is at the 75% percentile \n",
        "- PTRATIO = 20.2 which is at the 75% percentile \n",
        "- B = 396.90 which is the max \n",
        "- LSTAT = 30.59 which is in the fourth quartile \n",
        "\n",
        "For the majority of these predictor values they are at the extremes, either at or below the 25th percentile or equal or greater than the 75th percentile with several at the maximum value in the range. \n",
        "\n",
        "i.  \n"
      ],
      "id": "1b90388a"
    },
    {
      "cell_type": "code",
      "metadata": {},
      "source": [
        "## how many census tracts have RM > 7 \n",
        "housing_RM_7 = housing.loc[housing['RM'] > 7]\n",
        "housing_RM_7.shape\n",
        "\n",
        "## how many census tracts have RM > 8 \n",
        "housing_RM_8 = housing.loc[housing['RM'] > 8]\n",
        "housing_RM_8.shape\n",
        "\n",
        "## view the census tracts with RM >8 \n",
        "housing_RM_8.describe()"
      ],
      "id": "63bc05a9",
      "execution_count": null,
      "outputs": []
    },
    {
      "cell_type": "markdown",
      "metadata": {},
      "source": [
        "There are 64 census tracts with average of more than 7 rooms per dwelling. There are 13 census tracts with an average of more than 8 rooms per dwelling. For the census tracts that have an average of more than 8 rooms per dwelling, the crime rate is on the low end, nitric oxides are also lower, there's still a broad range of houses that are built pre-1940s, taxes are in the higher quartile, and the median value of the homes is in the upper half of the distribution. \n",
        "\n",
        "## Question 4 \n",
        "\n",
        "a. \n",
        "The second statement is correct because regardless of the value of the GPA, a positive term will be added to the final value of the college earnings (where Level = 1) compared to high school earnings (where Level = 0). \n",
        "\n",
        "b. \n"
      ],
      "id": "b21b8ee4"
    },
    {
      "cell_type": "code",
      "metadata": {},
      "source": [
        "print(50+20*4+0.07*110+35+0.01*4*110-40)"
      ],
      "id": "eb313ded",
      "execution_count": null,
      "outputs": []
    },
    {
      "cell_type": "markdown",
      "metadata": {},
      "source": [
        "The predicted salary of a college graduate with IQ of 110 and a GPA of 4.0 is $137,100. \n",
        "\n",
        "c. \n",
        "False. Just because the value of the coefficient of the interaction term is small compared to 0 this does not necessarily mean that there is little evidence of an interaction effect. To answer this, another statistical test must be performed to determine how statistically significant the interaction term is. \n",
        "\n",
        "## Question 5 \n",
        "\n",
        "a. \n"
      ],
      "id": "adb9a158"
    },
    {
      "cell_type": "code",
      "metadata": {},
      "source": [
        "## import the necessary libraries \n",
        "import statsmodels.api as sm\n",
        "from sklearn.linear_model import LinearRegression\n",
        "from sklearn.metrics import r2_score, mean_squared_error, mean_absolute_error\n",
        "import statsmodels.formula.api as smf\n",
        "\n",
        "\n",
        "## separate the preditors from the Y \n",
        "Y = housing['CRIM'] \n",
        "predictors = ['ZN', 'INDUS', 'CHAS', 'NOX', 'RM', 'AGE', 'DIS', 'RAD', 'TAX', 'PTRATIO', 'B', 'LSTAT', 'MDEV']\n",
        "\n",
        "## create a loop through to generate the models \n",
        "for i in predictors: \n",
        "    X = housing[[i]]\n",
        "    x_with_intercept = sm.add_constant(X) \n",
        "    model = sm.OLS(Y, x_with_intercept).fit()\n",
        "    print(f\"Model for {i}\")\n",
        "    print(model.summary())\n",
        "    print(\"\\n\" + \"=\"*80 + \"\\n\") \n",
        "\n",
        "##ref: Asked ChatGPT for troubleshooting support with creating the loop. "
      ],
      "id": "8cb48932",
      "execution_count": null,
      "outputs": []
    },
    {
      "cell_type": "markdown",
      "metadata": {},
      "source": [
        "Looking at all the models, the relationships in which CRIM is statistically significant with one of the predictors are with ZN, INDUS, NOX, RM, AGE, DIS, RAD, TAX, PTRATIO, B, LSTAT, and MDEV. The R-squared values for all of these models are not particularly large with the greatest at 0.336. \n"
      ],
      "id": "59a0c09b"
    },
    {
      "cell_type": "code",
      "metadata": {},
      "source": [
        "## create plots (5) \n",
        "sig_predictors = ['ZN', 'INDUS','NOX', 'RM', 'AGE']\n",
        "\n",
        "for i in sig_predictors: \n",
        "    Y = housing['CRIM']\n",
        "    X = housing[[i]]\n",
        "    x_with_intercept = sm.add_constant(X) \n",
        "    model = sm.OLS(Y, x_with_intercept).fit()\n",
        "    \n",
        "    housing['predicted'] = model.predict(x_with_intercept)\n",
        "\n",
        "    plt.scatter(housing[i], Y, color = 'black', label='Data Points')\n",
        "    plt.plot(housing[i], housing['predicted'], color = 'red', label = 'Linear Model')\n",
        "    plt.xlabel(i)\n",
        "    plt.ylabel('CRIM')\n",
        "    plt.title(f\"Plot of CRIM vs {i}\")\n",
        "    plt.legend()\n",
        "    plt.show()\n",
        "\n",
        "##ref: Asked ChatGPT for support in generating the plots and troubleshooting the loop. "
      ],
      "id": "32871df1",
      "execution_count": null,
      "outputs": []
    },
    {
      "cell_type": "markdown",
      "metadata": {},
      "source": [
        "b. \n"
      ],
      "id": "ba64e30d"
    },
    {
      "cell_type": "code",
      "metadata": {},
      "source": [
        "## use all the predictors \n",
        "Y = housing['CRIM'] \n",
        "X = sm.add_constant(housing[['ZN', 'INDUS', 'CHAS', 'NOX', 'RM', 'AGE', 'DIS', 'RAD', 'TAX', 'PTRATIO', 'B', 'LSTAT', 'MDEV']])\n",
        "\n",
        "model_multi = sm.OLS(Y, X).fit()\n",
        "\n",
        "housing['multi-predict'] = model_multi.predict(X)\n",
        "print(model_multi.summary())"
      ],
      "id": "2cc5951b",
      "execution_count": null,
      "outputs": []
    },
    {
      "cell_type": "markdown",
      "metadata": {},
      "source": [
        "This gives a model with an R^2 value of 0.448 and not all predictors are significant. Predictors that are not statistically significant are INDUS, CHAS, RM, AGE, TAX, PTRATIO, B, and LSTAT. We can only reject the null hypothesis for the predictors ZN, NOX, DIS, RAD, and MDEV. The R squared for this multi-predictor model is higher than any of the simple, individual regressions at 0.448. \n",
        "\n",
        "c. \n"
      ],
      "id": "188bdc5f"
    },
    {
      "cell_type": "code",
      "metadata": {},
      "source": [
        "## plot the coefficients \n",
        "coeff = {'x': [-0.0735, 0.5068, -1.8715, 30.9753, -2.6910, 0.1071, -1.5428, 0.6141, 0.0296, 1.1446, -0.0355, 0.5444, -0.3606], \n",
        "'y': [0.0449, -0.0616, -0.7414, -10.6455, 0.3811, 0.0020, -0.9950, 0.5888, -0.0037, -0.2787, -0.0069, 0.1213, -0.1992]}\n",
        "\n",
        "coefficient_data = pd.DataFrame(coeff)\n",
        "\n",
        "plt.scatter(coefficient_data['x'], coefficient_data['y'], color = 'blue')\n",
        "plt.xlabel('Univariate Reg Coefficients')\n",
        "plt.ylabel('Multiple Reg Coefficients')"
      ],
      "id": "d2bf4d76",
      "execution_count": null,
      "outputs": []
    },
    {
      "cell_type": "markdown",
      "metadata": {},
      "source": [
        "The coefficients for both the univariate and multiple regressions for the predictors are both clustered around 0 for the most part except for one outlier where the univariate reg coefficient is at about 31 and the multiple reg coefficient is at around -10 (this is NOX). \n",
        "\n",
        "d. \n"
      ],
      "id": "b04b3480"
    },
    {
      "cell_type": "code",
      "metadata": {},
      "source": [
        "## use all predictors and not CHAS (indicator variable, 0 or 1)\n",
        "predictors = ['ZN', 'INDUS', 'NOX', 'RM', 'AGE', 'DIS', 'RAD', 'TAX', 'PTRATIO', 'B', 'LSTAT', 'MDEV']\n",
        "\n",
        "import statsmodels.formula.api as smf\n",
        "import pandas as pd\n",
        "\n",
        "for i in predictors: \n",
        "    formula = f'CRIM ~ {i} + I({i}**2) + I({i}**3)'\n",
        "    reg3 = smf.ols(formula, data = housing).fit()\n",
        "    est = reg3.params \n",
        "    pval = reg3.pvalues\n",
        "    est_table = pd.DataFrame({\n",
        "        'Coefficient': est, \n",
        "        'p-value':pval})    \n",
        "    \n",
        "    print(f'Estimates and p-values for {i}')\n",
        "    print(est_table)\n",
        "\n",
        "#ref: Asked ChatGPT for a way to extract the coefficients and p-values from the results, as well as how to display in a neat way. "
      ],
      "id": "f2495b48",
      "execution_count": null,
      "outputs": []
    },
    {
      "cell_type": "markdown",
      "metadata": {},
      "source": [
        "Yes there is evidence of non-linear association between some of the predictors and the response; these predictors are ZN, INDUS, NOX, and MDEV with p values that are less than 0.05 which indicates statistical significance. "
      ],
      "id": "4516c949"
    }
  ],
  "metadata": {
    "kernelspec": {
      "name": "python3",
      "language": "python",
      "display_name": "Python 3 (ipykernel)",
      "path": "c:\\Users\\12019\\OneDrive - The University of Chicago\\Documents\\GitHub\\.venv\\share\\jupyter\\kernels\\python3"
    }
  },
  "nbformat": 4,
  "nbformat_minor": 5
}